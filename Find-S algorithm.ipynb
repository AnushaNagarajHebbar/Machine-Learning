{
 "cells": [
  {
   "cell_type": "code",
   "execution_count": null,
   "id": "d43ec2bb-16c8-40ff-820e-02142bd1af7c",
   "metadata": {},
   "outputs": [],
   "source": []
  },
  {
   "cell_type": "code",
   "execution_count": null,
   "id": "f576fc7b-a40f-430e-9754-ec10ffd2e450",
   "metadata": {},
   "outputs": [],
   "source": []
  },
  {
   "cell_type": "code",
   "execution_count": 1,
   "id": "a46f6c02-72bf-4cc0-8a79-595de2b8042d",
   "metadata": {},
   "outputs": [
    {
     "name": "stdout",
     "output_type": "stream",
     "text": [
      "     Sky AirTemp Humidity    Wind Water Forecast EnjoySport\n",
      "0  Sunny    Warm   Normal  Strong  Warm     Same        yes\n",
      "1  Sunny    Warm     High  Strong  Warm     Same        yes\n",
      "2  Rainy    Cold     High  Strong  Warm   Change         no\n",
      "3  Sunny    Warm     High  Strong  Cool   Change        yes\n",
      "\n",
      "Shape of data set: (4, 7)\n",
      "\n",
      "Features in the dataset:\n",
      " [['Sunny' 'Warm' 'Normal' 'Strong' 'Warm' 'Same']\n",
      " ['Sunny' 'Warm' 'High' 'Strong' 'Warm' 'Same']\n",
      " ['Rainy' 'Cold' 'High' 'Strong' 'Warm' 'Change']\n",
      " ['Sunny' 'Warm' 'High' 'Strong' 'Cool' 'Change']]\n",
      "\n",
      "Shape of Features: (4, 6)\n",
      "\n",
      "Target Concept:\n",
      " ['yes' 'yes' 'no' 'yes']\n",
      "\n",
      "Shape of the target: (4,)\n",
      "\n",
      "Initial hypothesis: ['Sunny' 'Warm' 'Normal' 'Strong' 'Warm' 'Same']\n",
      "\n",
      "Final hypothesis: ['Sunny' 'Warm' '?' 'Strong' '?' '?']\n"
     ]
    }
   ],
   "source": [
    "import pandas as pd\n",
    "import numpy as np\n",
    "\n",
    "# To read the data in the CSV file\n",
    "df = pd.read_csv(\"ws.csv\")\n",
    "print(df)\n",
    "print(\"\\nShape of data set:\", df.shape)\n",
    "\n",
    "# Extract features and target from the dataset\n",
    "features = np.array(df)[:, :-1]\n",
    "print(\"\\nFeatures in the dataset:\\n\", features)\n",
    "print(\"\\nShape of Features:\", features.shape)\n",
    "target = np.array(df)[:, -1]\n",
    "print(\"\\nTarget Concept:\\n\", target)\n",
    "print(\"\\nShape of the target:\", target.shape)\n",
    "\n",
    "# Initialize hypothesis\n",
    "hypothesis = None\n",
    "for i in range(len(target)):\n",
    "    if target[i] == 'yes':\n",
    "        hypothesis = features[i].copy()\n",
    "        break\n",
    "print(\"\\nInitial hypothesis:\", hypothesis)\n",
    "\n",
    "# Update the hypothesis\n",
    "for i in range(len(features)): # len(features) = number of rows\n",
    "    if target[i] == 'yes':\n",
    "        for x in range(len(hypothesis)):\n",
    "            if features[i][x] != hypothesis[x]:\n",
    "                hypothesis[x] = '?'\n",
    "print(\"\\nFinal hypothesis:\", hypothesis)\n"
   ]
  },
  {
   "cell_type": "code",
   "execution_count": null,
   "id": "ef6ee63d-f70d-4b63-aa44-e0898ac2fa6e",
   "metadata": {},
   "outputs": [],
   "source": []
  }
 ],
 "metadata": {
  "kernelspec": {
   "display_name": "Python 3 (ipykernel)",
   "language": "python",
   "name": "python3"
  },
  "language_info": {
   "codemirror_mode": {
    "name": "ipython",
    "version": 3
   },
   "file_extension": ".py",
   "mimetype": "text/x-python",
   "name": "python",
   "nbconvert_exporter": "python",
   "pygments_lexer": "ipython3",
   "version": "3.11.7"
  }
 },
 "nbformat": 4,
 "nbformat_minor": 5
}
